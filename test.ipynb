{
 "cells": [
  {
   "cell_type": "code",
   "execution_count": 2,
   "metadata": {},
   "outputs": [],
   "source": [
    "from Bio.Seq import Seq\n",
    "from Bio.SeqRecord import SeqRecord\n",
    "from Bio import SeqIO\n",
    "import pandas as pd\n",
    "\n",
    "# List of sequences as SeqRecord objects\n",
    "sequences = [\n",
    "    SeqRecord(Seq(\"MKWVTFISLLFLFSSAYS\"), id=\"Protein1\", description=\"Description of Protein1\"),\n",
    "    SeqRecord(Seq(\"LLLKAGAGAGAWWDAGVVF\"), id=\"Protein2\", description=\"Description of Protein2\"),\n",
    "    SeqRecord(Seq(\"VVVVKKKRRRNNNDDD\"), id=\"Protein3\", description=\"Description of Protein3\"),\n",
    "]\n",
    "\n",
    "# Write to FASTA file\n",
    "with open(\"proteins.fasta\", \"w\") as output_file:\n",
    "    SeqIO.write(sequences, output_file, \"fasta\")\n"
   ]
  },
  {
   "cell_type": "code",
   "execution_count": 3,
   "metadata": {},
   "outputs": [],
   "source": [
    "import csv\n",
    "\n",
    "# Load the CSV file\n",
    "file_path = \"proteins.csv\"  # Update with the path to your file\n",
    "output_fasta = \"proteins.fasta\"\n",
    "\n",
    "# Read CSV and write to FASTA\n",
    "with open(file_path, \"r\") as csv_file, open(output_fasta, \"w\") as fasta_file:\n",
    "    reader = csv.DictReader(csv_file)\n",
    "    for row in reader:\n",
    "        protein_id = row['Id']  # Column name for protein ID\n",
    "        sequence = row['Sequence']    # Column name for sequence\n",
    "        fasta_file.write(f\">{protein_id}\\n\")  # Write header\n",
    "        fasta_file.write(f\"{sequence}\\n\")    # Write sequence\n"
   ]
  },
  {
   "cell_type": "markdown",
   "metadata": {},
   "source": [
    "Validating Fasta Sequence\n"
   ]
  },
  {
   "cell_type": "code",
   "execution_count": 22,
   "metadata": {},
   "outputs": [
    {
     "name": "stdout",
     "output_type": "stream",
     "text": [
      "Sequence Insulin is valid.\n"
     ]
    }
   ],
   "source": [
    "from Bio import SeqIO\n",
    "\n",
    "def validate_fasta(file_path):\n",
    "    try:\n",
    "        # Try parsing the FASTA file\n",
    "        for record in SeqIO.parse(file_path, \"fasta\"):\n",
    "            if not record.seq:  # Check for empty sequences\n",
    "                print(f\"Warning: Sequence for {record.id} is empty.\")\n",
    "            else:\n",
    "                print(f\"Sequence {record.id} is valid.\")\n",
    "    except Exception as e:\n",
    "        print(f\"Error: {e}\")\n",
    "\n",
    "# Example usage\n",
    "file_path = \"insulin.fasta\"\n",
    "validate_fasta(file_path)\n"
   ]
  },
  {
   "cell_type": "markdown",
   "metadata": {},
   "source": [
    "Trypsin digestion | Output a CSV file"
   ]
  },
  {
   "cell_type": "code",
   "execution_count": 17,
   "metadata": {},
   "outputs": [
    {
     "name": "stdout",
     "output_type": "stream",
     "text": [
      "Digestion complete. 10199 peptides written to digested_peptides_6503_trypsin.csv\n"
     ]
    }
   ],
   "source": [
    "import pyopenms as oms\n",
    "import csv\n",
    "\n",
    "# Specify the local FASTA file\n",
    "fasta_file = \"6503_trypsin.fasta\"  # Replace with your FASTA file name\n",
    "output_csv = \"digested_peptides_6503_trypsin.csv\"\n",
    "\n",
    "# Load the protein sequence from the FASTA file\n",
    "with open(fasta_file, \"r\") as f:\n",
    "    lines = f.readlines()\n",
    "    protein_sequence = \"\".join(line.strip() for line in lines if not line.startswith(\">\"))  # Exclude the header\n",
    "\n",
    "# Convert the protein sequence to an AASequence object\n",
    "protein = oms.AASequence.fromString(protein_sequence)\n",
    "\n",
    "# Initialize the protease digestion class\n",
    "digestion = oms.ProteaseDigestion()\n",
    "\n",
    "# Set digestion enzyme (default is trypsin)\n",
    "digestion.getEnzymeName()  # Should return \"Trypsin\"\n",
    "\n",
    "# Set the number of missed cleavages\n",
    "digestion.setMissedCleavages(2)\n",
    "\n",
    "# Perform digestion with length constraints (7-40 residues)\n",
    "min_length = 7\n",
    "max_length = 40\n",
    "result = []\n",
    "digestion.digest(protein, result, min_length, max_length)\n",
    "\n",
    "# Prepare peptide data for CSV output\n",
    "peptides = [peptide.toString() for peptide in result]\n",
    "\n",
    "# Write peptides to a CSV file\n",
    "with open(output_csv, mode=\"w\", newline=\"\") as file:\n",
    "    writer = csv.writer(file)\n",
    "    writer.writerow([\"Peptide Sequence\"])\n",
    "    for peptide in peptides:\n",
    "        writer.writerow([peptide])\n",
    "\n",
    "print(f\"Digestion complete. {len(peptides)} peptides written to {output_csv}\")\n",
    "\n"
   ]
  },
  {
   "cell_type": "markdown",
   "metadata": {},
   "source": [
    "Lys-C Digestion"
   ]
  },
  {
   "cell_type": "code",
   "execution_count": 13,
   "metadata": {},
   "outputs": [
    {
     "name": "stdout",
     "output_type": "stream",
     "text": [
      "Lys-C digestion complete. 1093 peptides written to digested_peptides_6503_lysC.csv\n"
     ]
    }
   ],
   "source": [
    "import pyopenms as oms\n",
    "import csv\n",
    "\n",
    "# Specify the local FASTA file\n",
    "fasta_file = \"6503_lysC.fasta\"  # Replace with your FASTA file name\n",
    "output_csv = \"digested_peptides_6503_lysC.csv\"\n",
    "\n",
    "# Load the protein sequence from the FASTA file\n",
    "with open(fasta_file, \"r\") as f:\n",
    "    lines = f.readlines()\n",
    "    protein_sequence = \"\".join(line.strip() for line in lines if not line.startswith(\">\"))  # Exclude the header\n",
    "\n",
    "# Convert the protein sequence to an AASequence object\n",
    "protein = oms.AASequence.fromString(protein_sequence)\n",
    "\n",
    "# Initialize the protease digestion class\n",
    "digestion = oms.ProteaseDigestion()\n",
    "\n",
    "# Set digestion enzyme to Lys-C\n",
    "digestion.setEnzyme(\"Lys-C\")\n",
    "\n",
    "# Set the number of missed cleavages\n",
    "digestion.setMissedCleavages(2)\n",
    "\n",
    "# Perform digestion with length constraints (7-40 residues)\n",
    "min_length = 7\n",
    "max_length = 40\n",
    "result = []\n",
    "digestion.digest(protein, result, min_length, max_length)\n",
    "\n",
    "# Prepare peptide data for CSV output\n",
    "peptides = [peptide.toString() for peptide in result]\n",
    "\n",
    "# Write peptides to a CSV file\n",
    "with open(output_csv, mode=\"w\", newline=\"\") as file:\n",
    "    writer = csv.writer(file)\n",
    "    writer.writerow([\"Peptide Sequence\"])\n",
    "    for peptide in peptides:\n",
    "        writer.writerow([peptide])\n",
    "\n",
    "print(f\"Lys-C digestion complete. {len(peptides)} peptides written to {output_csv}\")\n"
   ]
  },
  {
   "cell_type": "markdown",
   "metadata": {},
   "source": [
    "Digested peptides to a structured csv\n"
   ]
  },
  {
   "cell_type": "code",
   "execution_count": 30,
   "metadata": {},
   "outputs": [
    {
     "name": "stdout",
     "output_type": "stream",
     "text": [
      "Digestion complete. 2 peptides written to digested_peptides_insulin_3.csv\n"
     ]
    }
   ],
   "source": [
    "import pyopenms as oms\n",
    "import csv\n",
    "\n",
    "# Specify the local FASTA file\n",
    "fasta_file = \"insulin.fasta\"  # Replace with your FASTA file name\n",
    "output_csv = \"digested_peptides_insulin_3.csv\"\n",
    "\n",
    "# Load the protein sequence from the FASTA file\n",
    "with open(fasta_file, \"r\") as f:\n",
    "    lines = f.readlines()\n",
    "    protein_sequence = \"\".join(line.strip() for line in lines if not line.startswith(\">\"))  # Exclude the header\n",
    "\n",
    "# Convert the protein sequence to an AASequence object\n",
    "protein = oms.AASequence.fromString(protein_sequence)\n",
    "\n",
    "# Initialize the protease digestion class\n",
    "digestion = oms.ProteaseDigestion()\n",
    "\n",
    "# Set digestion enzyme (default is trypsin)\n",
    "digestion.getEnzymeName()  # Should return \"Trypsin\"\n",
    "\n",
    "# Set the number of missed cleavages\n",
    "digestion.setMissedCleavages(0)\n",
    "\n",
    "# Perform digestion with length constraints (7-40 residues)\n",
    "min_length = 0\n",
    "max_length = 400\n",
    "result = []\n",
    "digestion.digest(protein, result, min_length, max_length)\n",
    "\n",
    "# Prepare peptide data for CSV output\n",
    "peptides = [peptide.toString() for peptide in result]\n",
    "\n",
    "# Write peptides to a CSV file\n",
    "with open(output_csv, mode=\"w\", newline=\"\") as file:\n",
    "    writer = csv.writer(file)\n",
    "    writer.writerow([\"id\", \"sequence\"])\n",
    "    for idx, peptide in enumerate(peptides, 1):\n",
    "        writer.writerow([idx, peptide])\n",
    "\n",
    "print(f\"Digestion complete. {len(peptides)} peptides written to {output_csv}\")\n"
   ]
  },
  {
   "cell_type": "markdown",
   "metadata": {},
   "source": [
    "Generate Molecular Formulas"
   ]
  },
  {
   "cell_type": "code",
   "execution_count": 32,
   "metadata": {},
   "outputs": [
    {
     "name": "stdout",
     "output_type": "stream",
     "text": [
      "Results saved to mol_bsa.csv\n"
     ]
    }
   ],
   "source": [
    "import pandas as pd\n",
    "import pyopenms as oms\n",
    "\n",
    "# Load the CSV file\n",
    "input_file = \"md_bsa.csv\"  # Replace with your file name\n",
    "output_file = \"mol_bsa.csv\"\n",
    "data = pd.read_csv(input_file)\n",
    "\n",
    "# Function to compute molecular formula\n",
    "def get_molecular_formula(sequence):\n",
    "    try:\n",
    "        \n",
    "        seq_obj = oms.AASequence.fromString(sequence)\n",
    "        return str(seq_obj.getFormula())\n",
    "    except Exception as e:\n",
    "        return f\"Error: {e}\"\n",
    "\n",
    "# Apply the function to the Sequence column\n",
    "data[\"MolecularFormula\"] = data[\"sequence\"].apply(get_molecular_formula)\n",
    "\n",
    "# Save the results to a new CSV\n",
    "data.to_csv(output_file, index=False)\n",
    "print(f\"Results saved to {output_file}\")\n"
   ]
  },
  {
   "cell_type": "markdown",
   "metadata": {},
   "source": [
    "Added Oxidated Methionine modification\n"
   ]
  },
  {
   "cell_type": "code",
   "execution_count": 33,
   "metadata": {},
   "outputs": [
    {
     "name": "stdout",
     "output_type": "stream",
     "text": [
      "Digestion complete. 2 peptides written to md_insulin.csv\n"
     ]
    }
   ],
   "source": [
    "import pyopenms as oms\n",
    "import csv\n",
    "\n",
    "# Specify the local FASTA file\n",
    "fasta_file = \"insulin.fasta\"  # Replace with your FASTA file name\n",
    "output_csv = \"md_insulin.csv\"\n",
    "\n",
    "# Load the protein sequence from the FASTA file\n",
    "with open(fasta_file, \"r\") as f:\n",
    "    lines = f.readlines()\n",
    "    protein_sequence = \"\".join(line.strip() for line in lines if not line.startswith(\">\"))  # Exclude the header\n",
    "\n",
    "# Convert the protein sequence to an AASequence object\n",
    "protein = oms.AASequence.fromString(protein_sequence)\n",
    "\n",
    "# Initialize the protease digestion class\n",
    "digestion = oms.ProteaseDigestion()\n",
    "\n",
    "# Set digestion enzyme (default is trypsin)\n",
    "digestion.getEnzymeName()  # Should return \"Trypsin\"\n",
    "\n",
    "# Set the number of missed cleavages\n",
    "digestion.setMissedCleavages(0)\n",
    "\n",
    "# Perform digestion with length constraints (7-40 residues)\n",
    "min_length = 0\n",
    "max_length = 400\n",
    "result = []\n",
    "digestion.digest(protein, result, min_length, max_length)\n",
    "\n",
    "# Prepare peptide data for CSV output\n",
    "peptides = [peptide.toString() for peptide in result]\n",
    "\n",
    "# Define the oxidation modification for methionine\n",
    "variable_mod_names = [b\"Oxidation (M)\"]\n",
    "variable_modifications = oms.ModifiedPeptideGenerator.getModifications(variable_mod_names)\n",
    "\n",
    "# Apply the variable modifications to the digested peptides\n",
    "modified_peptides = []\n",
    "for peptide in result:\n",
    "    oms.ModifiedPeptideGenerator.applyVariableModifications(variable_modifications, peptide, 1, modified_peptides, False)\n",
    "\n",
    "# Combine original and modified peptides\n",
    "all_peptides = peptides + [peptide.toString() for peptide in modified_peptides]\n",
    "\n",
    "# Write peptides to a CSV file\n",
    "with open(output_csv, mode=\"w\", newline=\"\") as file:\n",
    "    writer = csv.writer(file)\n",
    "    writer.writerow([\"id\", \"sequence\"])\n",
    "    for idx, peptide in enumerate(all_peptides, 1):\n",
    "        writer.writerow([idx, peptide])\n",
    "\n",
    "print(f\"Digestion complete. {len(all_peptides)} peptides written to {output_csv}\")\n"
   ]
  },
  {
   "cell_type": "markdown",
   "metadata": {},
   "source": [
    "Modified column Names | outputs Csv with Name and Molecular Formulae"
   ]
  },
  {
   "cell_type": "code",
   "execution_count": 40,
   "metadata": {},
   "outputs": [
    {
     "name": "stdout",
     "output_type": "stream",
     "text": [
      "Digestion complete. 2338 peptides written to 6504_lysC_formulas.csv\n"
     ]
    }
   ],
   "source": [
    "import pyopenms as oms\n",
    "import csv\n",
    "\n",
    "# Specify the local FASTA file\n",
    "fasta_file = \"6504_lysC.fasta\"  # Replace with your FASTA file name\n",
    "output_csv = \"6504_lysC_formulas.csv\"\n",
    "\n",
    "# Load the protein sequence from the FASTA file\n",
    "with open(fasta_file, \"r\") as f:\n",
    "    lines = f.readlines()\n",
    "    protein_sequence = \"\".join(line.strip() for line in lines if not line.startswith(\">\"))  # Exclude the header\n",
    "\n",
    "# Convert the protein sequence to an AASequence object\n",
    "protein = oms.AASequence.fromString(protein_sequence)\n",
    "\n",
    "# Initialize the protease digestion class\n",
    "digestion = oms.ProteaseDigestion()\n",
    "\n",
    "# Set digestion enzyme (default is trypsin)\n",
    "digestion.getEnzymeName()  # Should return \"Trypsin\"\n",
    "\n",
    "# Set the number of missed cleavages\n",
    "digestion.setMissedCleavages(1)\n",
    "\n",
    "# Perform digestion with length constraints (7-40 residues)\n",
    "min_length = 7\n",
    "max_length = 40\n",
    "result = []\n",
    "digestion.digest(protein, result, min_length, max_length)\n",
    "\n",
    "# Prepare peptide data for CSV output\n",
    "peptides = [peptide.toString() for peptide in result]\n",
    "\n",
    "# Define the oxidation modification for methionine\n",
    "variable_mod_names = [b\"Oxidation (M)\"]\n",
    "variable_modifications = oms.ModifiedPeptideGenerator.getModifications(variable_mod_names)\n",
    "\n",
    "# Apply the variable modifications to the digested peptides\n",
    "modified_peptides = []\n",
    "for peptide in result:\n",
    "    oms.ModifiedPeptideGenerator.applyVariableModifications(variable_modifications, peptide, 1, modified_peptides, False)\n",
    "\n",
    "# Combine original and modified peptides\n",
    "all_peptides = peptides + [peptide.toString() for peptide in modified_peptides]\n",
    "\n",
    "# Function to compute molecular formula\n",
    "def get_molecular_formula(sequence):\n",
    "    try:\n",
    "        # Convert the sequence to an AASequence object\n",
    "        seq_obj = oms.AASequence.fromString(sequence)\n",
    "        # Get the molecular formula\n",
    "        return str(seq_obj.getFormula())\n",
    "    except Exception as e:\n",
    "        return f\"Error: {e}\"\n",
    "\n",
    "# Write peptides to a CSV file with Name and Molecular Formula columns\n",
    "with open(output_csv, mode=\"w\", newline=\"\") as file:\n",
    "    writer = csv.writer(file)\n",
    "    writer.writerow([\"Name\", \"Molecular Formula\"])\n",
    "    for peptide in all_peptides:\n",
    "        name = f\"{fasta_file.split('.')[0]}_{peptide}\"\n",
    "        molecular_formula = get_molecular_formula(peptide)\n",
    "        writer.writerow([name, molecular_formula])\n",
    "\n",
    "print(f\"Digestion complete. {len(all_peptides)} peptides written to {output_csv}\")\n"
   ]
  },
  {
   "cell_type": "markdown",
   "metadata": {},
   "source": [
    "Removed peptides with unknown amino acids X"
   ]
  },
  {
   "cell_type": "code",
   "execution_count": 44,
   "metadata": {},
   "outputs": [
    {
     "name": "stdout",
     "output_type": "stream",
     "text": [
      "Digestion complete. 24843 peptides written to peptides_with_formulas.csv\n"
     ]
    }
   ],
   "source": [
    "import pyopenms as oms\n",
    "import csv\n",
    "\n",
    "# Specify the local FASTA file\n",
    "fasta_file = \"master.fasta\"  # Replace with your FASTA file name\n",
    "output_csv = \"peptides_with_formulas.csv\"\n",
    "\n",
    "# Load the protein sequence from the FASTA file\n",
    "with open(fasta_file, \"r\") as f:\n",
    "    lines = f.readlines()\n",
    "    protein_sequence = \"\".join(line.strip() for line in lines if not line.startswith(\">\"))  # Exclude the header\n",
    "\n",
    "# Convert the protein sequence to an AASequence object\n",
    "protein = oms.AASequence.fromString(protein_sequence)\n",
    "\n",
    "# Initialize the protease digestion class\n",
    "digestion = oms.ProteaseDigestion()\n",
    "\n",
    "# Set digestion enzyme (default is trypsin)\n",
    "digestion.getEnzymeName()  # Should return \"Trypsin\"\n",
    "\n",
    "# Set the number of missed cleavages\n",
    "digestion.setMissedCleavages(1)\n",
    "\n",
    "# Perform digestion with length constraints (7-40 residues)\n",
    "min_length = 6\n",
    "max_length = 40\n",
    "result = []\n",
    "digestion.digest(protein, result, min_length, max_length)\n",
    "\n",
    "# Prepare peptide data for CSV output\n",
    "peptides = [peptide.toString() for peptide in result]\n",
    "\n",
    "# Define the oxidation modification for methionine\n",
    "variable_mod_names = [b\"Oxidation (M)\"]\n",
    "variable_modifications = oms.ModifiedPeptideGenerator.getModifications(variable_mod_names)\n",
    "\n",
    "# Apply the variable modifications to the digested peptides\n",
    "modified_peptides = []\n",
    "for peptide in result:\n",
    "    oms.ModifiedPeptideGenerator.applyVariableModifications(variable_modifications, peptide, 1, modified_peptides, False)\n",
    "\n",
    "# Combine original and modified peptides\n",
    "all_peptides = peptides + [peptide.toString() for peptide in modified_peptides]\n",
    "\n",
    "# Remove sequences with 'X' amino acid\n",
    "filtered_peptides = [peptide for peptide in all_peptides if 'X' not in peptide]\n",
    "\n",
    "# Function to compute molecular formula\n",
    "def get_molecular_formula(sequence):\n",
    "    try:\n",
    "        # Convert the sequence to an AASequence object\n",
    "        seq_obj = oms.AASequence.fromString(sequence)\n",
    "        # Get the molecular formula\n",
    "        return str(seq_obj.getFormula())\n",
    "    except Exception as e:\n",
    "        return f\"Error: {e}\"\n",
    "\n",
    "# Write peptides to a CSV file with Name and Molecular Formula columns\n",
    "with open(output_csv, mode=\"w\", newline=\"\") as file:\n",
    "    writer = csv.writer(file)\n",
    "    writer.writerow([\"Name\", \"Molecular Formula\"])\n",
    "    for peptide in filtered_peptides:\n",
    "        name = f\"{fasta_file.split('.')[0]}_{peptide}\"\n",
    "        molecular_formula = get_molecular_formula(peptide)\n",
    "        writer.writerow([name, molecular_formula])\n",
    "\n",
    "print(f\"Digestion complete. {len(filtered_peptides)} peptides written to {output_csv}\")\n"
   ]
  },
  {
   "cell_type": "markdown",
   "metadata": {},
   "source": [
    "Read files seperately and output to one file"
   ]
  },
  {
   "cell_type": "code",
   "execution_count": null,
   "metadata": {},
   "outputs": [
    {
     "ename": "PermissionError",
     "evalue": "[Errno 13] Permission denied: 'peptides_with_formulas.csv'",
     "output_type": "error",
     "traceback": [
      "\u001b[1;31m---------------------------------------------------------------------------\u001b[0m",
      "\u001b[1;31mPermissionError\u001b[0m                           Traceback (most recent call last)",
      "Cell \u001b[1;32mIn[45], line 38\u001b[0m\n\u001b[0;32m     35\u001b[0m variable_modifications \u001b[38;5;241m=\u001b[39m oms\u001b[38;5;241m.\u001b[39mModifiedPeptideGenerator\u001b[38;5;241m.\u001b[39mgetModifications(variable_mod_names)\n\u001b[0;32m     37\u001b[0m \u001b[38;5;66;03m# Open the CSV file for writing\u001b[39;00m\n\u001b[1;32m---> 38\u001b[0m \u001b[38;5;28;01mwith\u001b[39;00m \u001b[38;5;28mopen\u001b[39m(output_csv, mode\u001b[38;5;241m=\u001b[39m\u001b[38;5;124m\"\u001b[39m\u001b[38;5;124mw\u001b[39m\u001b[38;5;124m\"\u001b[39m, newline\u001b[38;5;241m=\u001b[39m\u001b[38;5;124m\"\u001b[39m\u001b[38;5;124m\"\u001b[39m) \u001b[38;5;28;01mas\u001b[39;00m file:\n\u001b[0;32m     39\u001b[0m     writer \u001b[38;5;241m=\u001b[39m csv\u001b[38;5;241m.\u001b[39mwriter(file)\n\u001b[0;32m     40\u001b[0m     \u001b[38;5;66;03m# Write header\u001b[39;00m\n",
      "File \u001b[1;32mc:\\Users\\Admin\\anaconda3\\Lib\\site-packages\\IPython\\core\\interactiveshell.py:324\u001b[0m, in \u001b[0;36m_modified_open\u001b[1;34m(file, *args, **kwargs)\u001b[0m\n\u001b[0;32m    317\u001b[0m \u001b[38;5;28;01mif\u001b[39;00m file \u001b[38;5;129;01min\u001b[39;00m {\u001b[38;5;241m0\u001b[39m, \u001b[38;5;241m1\u001b[39m, \u001b[38;5;241m2\u001b[39m}:\n\u001b[0;32m    318\u001b[0m     \u001b[38;5;28;01mraise\u001b[39;00m \u001b[38;5;167;01mValueError\u001b[39;00m(\n\u001b[0;32m    319\u001b[0m         \u001b[38;5;124mf\u001b[39m\u001b[38;5;124m\"\u001b[39m\u001b[38;5;124mIPython won\u001b[39m\u001b[38;5;124m'\u001b[39m\u001b[38;5;124mt let you open fd=\u001b[39m\u001b[38;5;132;01m{\u001b[39;00mfile\u001b[38;5;132;01m}\u001b[39;00m\u001b[38;5;124m by default \u001b[39m\u001b[38;5;124m\"\u001b[39m\n\u001b[0;32m    320\u001b[0m         \u001b[38;5;124m\"\u001b[39m\u001b[38;5;124mas it is likely to crash IPython. If you know what you are doing, \u001b[39m\u001b[38;5;124m\"\u001b[39m\n\u001b[0;32m    321\u001b[0m         \u001b[38;5;124m\"\u001b[39m\u001b[38;5;124myou can use builtins\u001b[39m\u001b[38;5;124m'\u001b[39m\u001b[38;5;124m open.\u001b[39m\u001b[38;5;124m\"\u001b[39m\n\u001b[0;32m    322\u001b[0m     )\n\u001b[1;32m--> 324\u001b[0m \u001b[38;5;28;01mreturn\u001b[39;00m io_open(file, \u001b[38;5;241m*\u001b[39margs, \u001b[38;5;241m*\u001b[39m\u001b[38;5;241m*\u001b[39mkwargs)\n",
      "\u001b[1;31mPermissionError\u001b[0m: [Errno 13] Permission denied: 'peptides_with_formulas.csv'"
     ]
    }
   ],
   "source": [
    "import pyopenms as oms\n",
    "import csv\n",
    "\n",
    "# List of FASTA files to process\n",
    "fasta_files = [\"6503_lysC.fasta\", \"6503_trypsin.fasta\", \"6504_lysC.fasta\", \"6504_trypsin.fasta\", \"6507_lysC.fasta\", \"6507_trypsin.fasta\"]\n",
    "output_csv = \"peptides_with_formulas_seperate.csv\"\n",
    "\n",
    "# Function to read the protein sequence from a FASTA file\n",
    "def read_protein_sequence(fasta_file):\n",
    "    with open(fasta_file, \"r\") as f:\n",
    "        lines = f.readlines()\n",
    "        # Concatenate all non-header lines\n",
    "        return \"\".join(line.strip() for line in lines if not line.startswith(\">\"))\n",
    "\n",
    "# Function to compute molecular formula for a sequence\n",
    "def get_molecular_formula(sequence):\n",
    "    try:\n",
    "        # Convert the sequence to an AASequence object\n",
    "        seq_obj = oms.AASequence.fromString(sequence)\n",
    "        # Get the molecular formula\n",
    "        return str(seq_obj.getFormula())\n",
    "    except Exception as e:\n",
    "        return f\"Error: {e}\"\n",
    "\n",
    "# Initialize the protease digestion class\n",
    "digestion = oms.ProteaseDigestion()\n",
    "digestion.setMissedCleavages(1)  # Allow one missed cleavage\n",
    "\n",
    "# Define digestion parameters\n",
    "min_length = 6\n",
    "max_length = 40\n",
    "\n",
    "# Define oxidation modification for methionine\n",
    "variable_mod_names = [b\"Oxidation (M)\"]\n",
    "variable_modifications = oms.ModifiedPeptideGenerator.getModifications(variable_mod_names)\n",
    "\n",
    "# Open the CSV file for writing\n",
    "with open(output_csv, mode=\"w\", newline=\"\") as file:\n",
    "    writer = csv.writer(file)\n",
    "    # Write header\n",
    "    writer.writerow([\"Name\", \"Molecular Formula\"])\n",
    "\n",
    "    # Process each FASTA file\n",
    "    for fasta_file in fasta_files:\n",
    "        # Read protein sequence\n",
    "        protein_sequence = read_protein_sequence(fasta_file)\n",
    "        protein = oms.AASequence.fromString(protein_sequence)\n",
    "\n",
    "        # Perform digestion\n",
    "        result = []\n",
    "        digestion.digest(protein, result, min_length, max_length)\n",
    "\n",
    "        # Prepare peptides\n",
    "        peptides = [peptide.toString() for peptide in result]\n",
    "\n",
    "        # Apply variable modifications\n",
    "        modified_peptides = []\n",
    "        for peptide in result:\n",
    "            oms.ModifiedPeptideGenerator.applyVariableModifications(\n",
    "                variable_modifications, peptide, 1, modified_peptides, False\n",
    "            )\n",
    "\n",
    "        # Combine original and modified peptides\n",
    "        all_peptides = peptides + [peptide.toString() for peptide in modified_peptides]\n",
    "\n",
    "        # Filter peptides (remove those containing 'X')\n",
    "        filtered_peptides = [peptide for peptide in all_peptides if 'X' not in peptide]\n",
    "\n",
    "        # Write peptides and formulas to the CSV\n",
    "        for peptide in filtered_peptides:\n",
    "            name = f\"{fasta_file.split('.')[0]}_{peptide}\"\n",
    "            molecular_formula = get_molecular_formula(peptide)\n",
    "            writer.writerow([name, molecular_formula])\n",
    "\n",
    "print(f\"Digestion complete. Results written to {output_csv}.\")\n"
   ]
  }
 ],
 "metadata": {
  "kernelspec": {
   "display_name": "base",
   "language": "python",
   "name": "python3"
  },
  "language_info": {
   "codemirror_mode": {
    "name": "ipython",
    "version": 3
   },
   "file_extension": ".py",
   "mimetype": "text/x-python",
   "name": "python",
   "nbconvert_exporter": "python",
   "pygments_lexer": "ipython3",
   "version": "3.12.7"
  }
 },
 "nbformat": 4,
 "nbformat_minor": 2
}
